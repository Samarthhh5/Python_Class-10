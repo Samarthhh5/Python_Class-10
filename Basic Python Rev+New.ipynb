{
 "cells": [
  {
   "cell_type": "code",
   "execution_count": 1,
   "id": "5b95b0c2",
   "metadata": {},
   "outputs": [
    {
     "name": "stdout",
     "output_type": "stream",
     "text": [
      "2\n",
      "334027661875095082935878165689897695724025886105865253311336914562753921\n",
      "25\n",
      "133\n"
     ]
    }
   ],
   "source": [
    "#Arithmetic Operators\n",
    "a=97\n",
    "b=36\n",
    "print(a//b)\n",
    "print(a**b)\n",
    "print(a%b)\n",
    "print(a+b)\n"
   ]
  },
  {
   "cell_type": "code",
   "execution_count": null,
   "id": "f40171aa",
   "metadata": {},
   "outputs": [],
   "source": []
  },
  {
   "cell_type": "code",
   "execution_count": 2,
   "id": "dde423d3",
   "metadata": {},
   "outputs": [
    {
     "name": "stdout",
     "output_type": "stream",
     "text": [
      "a is greater than b\n"
     ]
    }
   ],
   "source": [
    "#Conditional Operators\n",
    "\n",
    "a=195\n",
    "b=9\n",
    "if a>b:\n",
    "    print(\"a is greater than b\")\n",
    "elif a<b:\n",
    "    print(\"b is greater than a\")\n",
    "else:\n",
    "    print(\"b is equal to a\")\n",
    "    "
   ]
  },
  {
   "cell_type": "code",
   "execution_count": null,
   "id": "d3dd43e8",
   "metadata": {},
   "outputs": [],
   "source": []
  },
  {
   "cell_type": "code",
   "execution_count": 3,
   "id": "e426329f",
   "metadata": {},
   "outputs": [
    {
     "name": "stdout",
     "output_type": "stream",
     "text": [
      "a is not positive\n"
     ]
    }
   ],
   "source": [
    "#Logical Operators\n",
    "a=93\n",
    "if a>0 and a%2==0:\n",
    "    print('a is positive even number')\n",
    "else:\n",
    "    print('a is not positive')"
   ]
  },
  {
   "cell_type": "code",
   "execution_count": null,
   "id": "1af7a029",
   "metadata": {},
   "outputs": [],
   "source": []
  },
  {
   "cell_type": "code",
   "execution_count": 4,
   "id": "5792d974",
   "metadata": {},
   "outputs": [
    {
     "name": "stdout",
     "output_type": "stream",
     "text": [
      "126.678\n",
      "<class 'float'>\n"
     ]
    }
   ],
   "source": [
    "#implicit conversion\n",
    "\n",
    "\n",
    "a=92 #int\n",
    "b=34.678 #float\n",
    "c=a+b\n",
    "\n",
    "print(c)\n",
    "print(type(c))"
   ]
  },
  {
   "cell_type": "code",
   "execution_count": null,
   "id": "9c3468a1",
   "metadata": {},
   "outputs": [],
   "source": []
  },
  {
   "cell_type": "code",
   "execution_count": 5,
   "id": "f5130b3d",
   "metadata": {},
   "outputs": [
    {
     "name": "stdout",
     "output_type": "stream",
     "text": [
      "1063.6\n"
     ]
    }
   ],
   "source": [
    "#explicit conversion\n",
    "\n",
    "a=978 #int\n",
    "b='85.6' #string\n",
    "c=a+float(b) #type(varible)\n",
    "print(c)"
   ]
  },
  {
   "cell_type": "code",
   "execution_count": null,
   "id": "be9737ba",
   "metadata": {},
   "outputs": [],
   "source": []
  },
  {
   "cell_type": "code",
   "execution_count": 6,
   "id": "66f1b283",
   "metadata": {},
   "outputs": [
    {
     "name": "stdout",
     "output_type": "stream",
     "text": [
      "enter characterssamarthhhm\n",
      "samarthhhm\n"
     ]
    }
   ],
   "source": [
    "#input function\n",
    "username=input(\"enter characters\")\n",
    "print(username)"
   ]
  },
  {
   "cell_type": "code",
   "execution_count": null,
   "id": "145268a2",
   "metadata": {},
   "outputs": [],
   "source": []
  },
  {
   "cell_type": "code",
   "execution_count": 8,
   "id": "e86215a3",
   "metadata": {},
   "outputs": [
    {
     "name": "stdout",
     "output_type": "stream",
     "text": [
      "enter your first name: samarth\n",
      "enter your last name: mishra\n",
      "samarth mishra\n"
     ]
    }
   ],
   "source": [
    "#input function 2\n",
    "firstname=input('enter your first name: ')\n",
    "lastname=input('enter your last name: ')\n",
    "full_name=firstname+\" \"+lastname\n",
    "print(full_name)"
   ]
  },
  {
   "cell_type": "code",
   "execution_count": null,
   "id": "4028c0aa",
   "metadata": {},
   "outputs": [],
   "source": []
  },
  {
   "cell_type": "code",
   "execution_count": 13,
   "id": "49b4b362",
   "metadata": {},
   "outputs": [
    {
     "name": "stdout",
     "output_type": "stream",
     "text": [
      "Ayein\n",
      "Baingan\n"
     ]
    }
   ],
   "source": [
    "#listing-($slicing $indexing)\n",
    "\n",
    "xyz=['Ayein','Banana','Grapes']\n",
    "zyx=['Broccoli','Baingan','Aloo']\n",
    "print(xyz[0])\n",
    "print(zyx[1])\n",
    "\n"
   ]
  },
  {
   "cell_type": "code",
   "execution_count": 17,
   "id": "f7e423d3",
   "metadata": {},
   "outputs": [
    {
     "name": "stdout",
     "output_type": "stream",
     "text": [
      "['Ayein', 'Banana', 'Goofy']\n"
     ]
    }
   ],
   "source": [
    "#changing values\n",
    "xyz[2]='Goofy'\n",
    "print(xyz)"
   ]
  },
  {
   "cell_type": "code",
   "execution_count": 18,
   "id": "e7354b9f",
   "metadata": {},
   "outputs": [
    {
     "name": "stdout",
     "output_type": "stream",
     "text": [
      "3\n"
     ]
    }
   ],
   "source": [
    "#length of list\n",
    "print(len(xyz))"
   ]
  },
  {
   "cell_type": "code",
   "execution_count": 26,
   "id": "98472515",
   "metadata": {},
   "outputs": [
    {
     "data": {
      "text/plain": [
       "['Ayein',\n",
       " 'Banana',\n",
       " 'Goofy',\n",
       " 'Hello there',\n",
       " 'Hello there',\n",
       " 'Hello there',\n",
       " 'Hello there',\n",
       " 'rick roll',\n",
       " 'rick roll']"
      ]
     },
     "execution_count": 26,
     "metadata": {},
     "output_type": "execute_result"
    }
   ],
   "source": [
    "#adding items\n",
    "xyz.append('rick roll')\n",
    "xyz"
   ]
  },
  {
   "cell_type": "code",
   "execution_count": 31,
   "id": "4a6b94ee",
   "metadata": {},
   "outputs": [
    {
     "name": "stdout",
     "output_type": "stream",
     "text": [
      "['Ayein', 'Banana', 'Goofy', 'Hello there', 'Hello there', 'Hello there', 'Hello there']\n"
     ]
    }
   ],
   "source": [
    "#remove last items\n",
    "xyz.pop()\n",
    "print(xyz)"
   ]
  },
  {
   "cell_type": "code",
   "execution_count": 37,
   "id": "2162cc2a",
   "metadata": {},
   "outputs": [
    {
     "name": "stdout",
     "output_type": "stream",
     "text": [
      "['Ayein', 'Banana', 'Goofy']\n"
     ]
    }
   ],
   "source": [
    "#deleting items\n",
    "del xyz[3]\n",
    "print(xyz)"
   ]
  },
  {
   "cell_type": "code",
   "execution_count": null,
   "id": "070a8e91",
   "metadata": {},
   "outputs": [],
   "source": []
  },
  {
   "cell_type": "code",
   "execution_count": 39,
   "id": "9a345e70",
   "metadata": {},
   "outputs": [
    {
     "name": "stdout",
     "output_type": "stream",
     "text": [
      "brave\n"
     ]
    }
   ],
   "source": [
    "#tuples\n",
    "tuple_1=['edge','chrome','brave']\n",
    "print(tuple_1[2])"
   ]
  },
  {
   "cell_type": "code",
   "execution_count": null,
   "id": "9ab9eafd",
   "metadata": {},
   "outputs": [],
   "source": []
  },
  {
   "cell_type": "code",
   "execution_count": 40,
   "id": "5bb4629b",
   "metadata": {},
   "outputs": [
    {
     "name": "stdout",
     "output_type": "stream",
     "text": [
      "{'Spotify', 'PW', 'VS CODE', 'Whatsapp'}\n"
     ]
    }
   ],
   "source": [
    "#set\n",
    "a={'Whatsapp','Spotify','PW','VS CODE','Spotify'}\n",
    "print(a)"
   ]
  },
  {
   "cell_type": "code",
   "execution_count": null,
   "id": "77790ea4",
   "metadata": {},
   "outputs": [],
   "source": []
  },
  {
   "cell_type": "code",
   "execution_count": 47,
   "id": "b776412d",
   "metadata": {},
   "outputs": [
    {
     "name": "stdout",
     "output_type": "stream",
     "text": [
      "{'A70': 'rs10', 'A80': 'rs20'}\n"
     ]
    },
    {
     "data": {
      "text/plain": [
       "'rs20'"
      ]
     },
     "execution_count": 47,
     "metadata": {},
     "output_type": "execute_result"
    }
   ],
   "source": [
    "#dictionary\n",
    "fmcg={\n",
    "    'A70' : 'rs10',\n",
    "    'A80' : 'rs20'\n",
    "}\n",
    "print(fmcg)\n",
    "fmcg['A80']"
   ]
  },
  {
   "cell_type": "code",
   "execution_count": 48,
   "id": "b15c8142",
   "metadata": {},
   "outputs": [
    {
     "data": {
      "text/plain": [
       "'rs10'"
      ]
     },
     "execution_count": 48,
     "metadata": {},
     "output_type": "execute_result"
    }
   ],
   "source": [
    "fmcg['A70']"
   ]
  },
  {
   "cell_type": "code",
   "execution_count": null,
   "id": "747cd558",
   "metadata": {},
   "outputs": [],
   "source": []
  }
 ],
 "metadata": {
  "kernelspec": {
   "display_name": "Python 3 (ipykernel)",
   "language": "python",
   "name": "python3"
  },
  "language_info": {
   "codemirror_mode": {
    "name": "ipython",
    "version": 3
   },
   "file_extension": ".py",
   "mimetype": "text/x-python",
   "name": "python",
   "nbconvert_exporter": "python",
   "pygments_lexer": "ipython3",
   "version": "3.11.5"
  }
 },
 "nbformat": 4,
 "nbformat_minor": 5
}
